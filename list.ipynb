{
 "cells": [
  {
   "cell_type": "markdown",
   "id": "9476ee5b-cd63-42c3-9e32-a248d459c47a",
   "metadata": {},
   "source": [
    "##### 2025.04.30 데이터베이스프로그래밍 3강 ko36 조유은\n",
    "## 리스트 (1)\n",
    "\n",
    "- 파이썬 내장 기본 데이터형에는 리스트, 튜플, 딕셔너리 세 개는 반드시 알자.\n",
    "- 하지만 모델을 학습하는데 있어서 데이터를 수치형으로 변환한 numpy array가 비교적 빠른 연산을 지원하고 메모리를 효율적으로 사용할 수 있는 큰 장점이 있다.\n",
    "- 같은 데이터형 집합이라 데이터형을 체크할 필요도 없고 연산 반복에 이점이 있다.\n",
    "- 또, 판다스의 dataframe을 쓰면 마치 엑셀(spreadsheet)과 같이 활용이 쉽고, 행렬 연산 처리가 쉬워서 모델 학습 데이터형으로 많이 사용된다."
   ]
  },
  {
   "cell_type": "code",
   "execution_count": 7,
   "id": "13409d3f-7fd1-4a3c-a628-16a5a7728f43",
   "metadata": {},
   "outputs": [
    {
     "name": "stdout",
     "output_type": "stream",
     "text": [
      "==================================================\n",
      "[1, 2, 3, 4, 5]\n",
      "==================================================\n",
      "파이썬 리스트는 숫자형, 문자형을 혼합하여 사용가능\n",
      "[1, 2, 3, 4, '만세']\n",
      "==================================================\n",
      "파이썬 리스트는 배열과 같이 0~4의 첨자를 갖는다.\n",
      "a[ 0 ]= 1\n",
      "a[ 1 ]= 2\n",
      "a[ 2 ]= 3\n",
      "a[ 3 ]= 4\n",
      "a[ 4 ]= 5\n",
      "==================================================\n",
      "파이썬 리스트는 음수 첨자를 갖는다. 순서에 주의하자.\n",
      "a[ -5 ]= 1\n",
      "a[ -4 ]= 2\n",
      "a[ -3 ]= 3\n",
      "a[ -2 ]= 4\n",
      "a[ -1 ]= 5\n"
     ]
    }
   ],
   "source": [
    "# list ptratice\n",
    "\n",
    "k36_a = [1, 2, 3, 4, 5]\n",
    "print(\"=\" * 50)\n",
    "print(k36_a)\n",
    "\n",
    "k36_a = [1, 2, 3, 4, \"만세\"]\n",
    "print(\"=\" * 50)\n",
    "print(\"파이썬 리스트는 숫자형, 문자형을 혼합하여 사용가능\")\n",
    "print(k36_a)\n",
    "\n",
    "k36_a = [1, 2, 3, 4, 5]\n",
    "print(\"=\" * 50)\n",
    "print(\"파이썬 리스트는 배열과 같이 0~4의 첨자를 갖는다.\")\n",
    "for k36_i in range(5):\n",
    "    print(\"a[\", k36_i, \"]=\", k36_a[k36_i])\n",
    "\n",
    "print(\"=\" * 50)\n",
    "print(\"파이썬 리스트는 음수 첨자를 갖는다. 순서에 주의하자.\")\n",
    "for k36_i in range(-5, 0, 1):\n",
    "    print(\"a[\", k36_i, \"]=\", k36_a[k36_i])"
   ]
  },
  {
   "cell_type": "markdown",
   "id": "5525c6b1-6068-446f-b915-873e5b16dd4f",
   "metadata": {},
   "source": [
    "- print(\"=\" * 50)을 사용하면 '='를 50 개 출력할 수 있다.\n",
    "- range(5) : 0에서 4까지\n",
    "- range(-5, 0, 1) : -5에서 -1까지\n",
    "- index(+) : 0 1  2 3 4\n",
    "- index(-) : -1 -2 -3 -4 -5  "
   ]
  },
  {
   "cell_type": "code",
   "execution_count": 2,
   "id": "25b16214-feb0-4c34-a329-ed2a942d5567",
   "metadata": {},
   "outputs": [
    {
     "name": "stdout",
     "output_type": "stream",
     "text": [
      "==================================================\n",
      "k36_a[2:8]는 2부터 8보다 작을 때까지\n",
      "-> 0부터 시작(2, 3, 4, 5, 6, 7)\n",
      "[3, 4, 5, 6, 7, 8]\n",
      "==================================================\n",
      "k36_a[:4]는 처음부터 4보다 작을 때까지\n",
      "-> 0, 1, 2, 3 (주의 k36_a[4] 제외)\n",
      "[1, 2, 3, 4]\n",
      "==================================================\n",
      "k36_a[5:]는 5부터 끝까지\n",
      "[6, 7, 8, 9, 10]\n",
      "==================================================\n",
      "k36_a[:6:3]는 처음부터 6보다 작을 때까지 3씩 증가\n",
      "-> 6은 제외\n",
      "[1, 4]\n",
      "==================================================\n",
      "k36_a[::3]는 처음부터 끝까지 3씩 증가\n",
      "[1, 4, 7, 10]\n",
      "==================================================\n",
      "k36_a는 1...9까지 n을 뽑아내서 3을 곱한 값으로 생성\n",
      "[3, 6, 9, 12, 15, 18, 21, 24, 27]\n",
      "==================================================\n",
      "k36_a는 1...9까지 n을 뽑아내서 2로 나눈 나머지가\n",
      "0(=짝수)인 것만 뽑아 3을 곱한 값으로 생성된다.\n",
      "[6, 12, 18, 24]\n"
     ]
    }
   ],
   "source": [
    "# list[begin:end:step]\n",
    "\n",
    "k36_a = [1, 2, 3, 4, 5, 6, 7, 8, 9, 10]\n",
    "print(\"=\" * 50)\n",
    "print(\"k36_a[2:8]는 2부터 8보다 작을 때까지\\n-> 0부터 시작(2, 3, 4, 5, 6, 7)\")\n",
    "print(k36_a[2:8])\n",
    "\n",
    "print(\"=\" * 50)\n",
    "print(\"k36_a[:4]는 처음부터 4보다 작을 때까지\\n-> 0, 1, 2, 3 (주의 k36_a[4] 제외)\")\n",
    "print(k36_a[:4])\n",
    "\n",
    "print(\"=\" * 50)\n",
    "print(\"k36_a[5:]는 5부터 끝까지\")\n",
    "print(k36_a[5:])\n",
    "\n",
    "print(\"=\" * 50)\n",
    "print(\"k36_a[:6:3]는 처음부터 6보다 작을 때까지 3씩 증가\\n-> 6은 제외\")\n",
    "print(k36_a[:6:3])\n",
    "\n",
    "print(\"=\" * 50)\n",
    "print(\"k36_a[::3]는 처음부터 끝까지 3씩 증가\")\n",
    "print(k36_a[::3])\n",
    "\n",
    "k36_a = [k36_n * 3  for k36_n in range(1, 10)]\n",
    "print(\"=\" * 50)\n",
    "print(\"k36_a는 1...9까지 n을 뽑아내서 3을 곱한 값으로 생성\")\n",
    "print(k36_a)\n",
    "\n",
    "k36_a = [k36_n * 3  for k36_n in range(1, 10) if k36_n % 2 == 0]\n",
    "print(\"=\" * 50)\n",
    "print(\"k36_a는 1...9까지 n을 뽑아내서 2로 나눈 나머지가\\n0(=짝수)인 것만 뽑아 3을 곱한 값으로 생성된다.\")\n",
    "print(k36_a)"
   ]
  },
  {
   "cell_type": "markdown",
   "id": "8f71c0e7-d19a-440a-ad56-81703caefa5e",
   "metadata": {},
   "source": [
    "##### 2025.04.30 데이터베이스프로그래밍 3강 ko36 조유은\n",
    "## 리스트 (2)\n",
    "\n",
    "- numpy의 array 생성함수\n",
    "    - arange(start, end, step) : 원하는 숫자 범위, 숫자 간격에 따른 array를 생성\n",
    "    - ones(shape, dtypr, order) : 1로 채워진 array 생성\n",
    "    - zeros(shape, dtypr, order) : 0으로 채워진 array 생성\n",
    "    - entpy(shape, dtypr, order) : 초기화되지 않은 값으로 array 생성(쓰레기 값이 들어가 있다.)\n",
    "    - _like(ex_array) : 지정된 array(=ex_array)의 shape 크기만큼 지정된 값으로 채워 array 반환\n",
    "      - ones_like(ex_array)  or  zeros_like(ex_array)  or  empty_like(ex_array)"
   ]
  },
  {
   "cell_type": "code",
   "execution_count": 8,
   "id": "460000aa-37db-4dcd-93d9-f863126b658a",
   "metadata": {},
   "outputs": [
    {
     "name": "stdout",
     "output_type": "stream",
     "text": [
      "===\n",
      " [1, 2, 3, 4, 5]\n",
      "===\n",
      " [1 2 3 4 5]\n",
      "===\n",
      " (5,)\n"
     ]
    }
   ],
   "source": [
    "# numpy array list\n",
    "\n",
    "import numpy as np\n",
    "\n",
    "k36_data1 = [1, 2, 3, 4, 5]\n",
    "print(\"===\\n\", k36_data1)\n",
    "k36_arr1 = np.array(k36_data1)\n",
    "print(\"===\\n\", k36_arr1)\n",
    "print(\"===\\n\", k36_arr1.shape)"
   ]
  },
  {
   "cell_type": "markdown",
   "id": "25b4c4fc-cab1-4714-b532-89172613e8cd",
   "metadata": {},
   "source": [
    "- numpy를 이용하여 array 정의\n",
    "- shape : array의 형태(크기)를 알 수 있는 메서드"
   ]
  },
  {
   "cell_type": "code",
   "execution_count": 9,
   "id": "ed3b9944-8680-403b-9eca-9a20142864a3",
   "metadata": {},
   "outputs": [
    {
     "name": "stdout",
     "output_type": "stream",
     "text": [
      "===\n",
      " [[ 1  2  3]\n",
      " [ 4  5  6]\n",
      " [ 7  8  9]\n",
      " [10 11 12]]\n",
      "===\n",
      " (4, 3)\n"
     ]
    },
    {
     "data": {
      "text/plain": [
       "array([[0., 0., 0., 0., 0.],\n",
       "       [0., 0., 0., 0., 0.],\n",
       "       [0., 0., 0., 0., 0.]])"
      ]
     },
     "execution_count": 9,
     "metadata": {},
     "output_type": "execute_result"
    }
   ],
   "source": [
    "# matrix\n",
    "k36_arr2 = np.array([[1, 2, 3], [4, 5, 6], [7, 8, 9], [10, 11, 12]])\n",
    "print(\"===\\n\", k36_arr2)\n",
    "print(\"===\\n\", k36_arr2.shape)\n",
    "\n",
    "# inimatrix\n",
    "np.zeros((3, 5))"
   ]
  },
  {
   "cell_type": "markdown",
   "id": "b355daab-9e3f-42aa-b1a8-9ed926bed3a2",
   "metadata": {},
   "source": [
    "- zeros(shape, dtypr, order) : 0으로 채워진 array를 생성 $\\to$ zeros((3, 5))는 3행 5열의 행렬이 생성된다.\n",
    "- shape : array의 형태(크기)를 알 수 있는 메서드"
   ]
  },
  {
   "cell_type": "code",
   "execution_count": 10,
   "id": "3eb0b04f-76e9-4ea5-9c72-a3689ff42c6f",
   "metadata": {},
   "outputs": [
    {
     "name": "stdout",
     "output_type": "stream",
     "text": [
      "===\n",
      " [[1 2 3]\n",
      " [4 5 6]]\n",
      "===\n",
      " [[10 11 12]\n",
      " [13 14 15]]\n",
      "===\n",
      " [[11 13 15]\n",
      " [17 19 21]]\n",
      "===\n",
      " [[-9 -9 -9]\n",
      " [-9 -9 -9]]\n",
      "===\n",
      " [[10 22 36]\n",
      " [52 70 90]]\n"
     ]
    }
   ],
   "source": [
    "# matrix operaation\n",
    "k36_arr1 = np.array([[1, 2, 3], [4, 5, 6]])\n",
    "print(\"===\\n\", k36_arr1)\n",
    "k36_arr2 = np.array([[10, 11, 12], [13, 14, 15]])\n",
    "print(\"===\\n\", k36_arr2)\n",
    "print(\"===\\n\", k36_arr1 + k36_arr2)\n",
    "print(\"===\\n\", k36_arr1 - k36_arr2)\n",
    "print(\"===\\n\", k36_arr1 * k36_arr2)"
   ]
  },
  {
   "cell_type": "markdown",
   "id": "2575acd2-97a0-40d8-9bd0-7bb21ef2ebf5",
   "metadata": {},
   "source": [
    "- 행렬의 연산 : 각 행과 열의 값끼리 연산된다."
   ]
  },
  {
   "cell_type": "code",
   "execution_count": 11,
   "id": "799c85c6-6e22-4cad-a790-efae5a8b7e29",
   "metadata": {},
   "outputs": [
    {
     "name": "stdout",
     "output_type": "stream",
     "text": [
      "===\n",
      " [[ 1  2  3  4]\n",
      " [ 5  6  7  8]\n",
      " [ 9 10 11 12]]\n",
      "===\n",
      " 1\n",
      "===\n",
      " [ 9 10 11 12]\n",
      "===\n",
      " 12\n",
      "===\n",
      " [ 4  8 12]\n"
     ]
    }
   ],
   "source": [
    "k36_arr2 = np.array([[1, 2, 3, 4],\n",
    "                    [5, 6, 7, 8],\n",
    "                    [9, 10, 11, 12]])\n",
    "print(\"===\\n\", k36_arr2)\n",
    "print(\"===\\n\", k36_arr2[0, 0])\n",
    "print(\"===\\n\", k36_arr2[2, :])\n",
    "print(\"===\\n\", k36_arr2[2, 3])\n",
    "print(\"===\\n\", k36_arr2[:, 3])"
   ]
  },
  {
   "cell_type": "markdown",
   "id": "48ab5a72-e1c2-478a-b203-d4e79048d99b",
   "metadata": {},
   "source": [
    "- 2차원의 array에서 인덱싱을 하기 위해서는 2개의 인자를 입력해야 한다.\n",
    "- arry의 인덱스는 0부터 시작, ':'로 입력하는 경우는 모든 인덱스 범위의 값을 반환\n",
    "- k36_arr2[0, 0] : 0행 0열의 값을 반환 $\\to$ 1\n",
    "- k36_arr2[2, :] : 2행의 모든 값을 반환 $\\to$ [9 10 11 12]\n",
    "- k36_arr2[2, 3] : 2행 3열의 값을 반환 $\\to$ 12\n",
    "- k36_arr2[:, 3] : 3열의 모든 값을 반환 $\\to$ [4 8 12]"
   ]
  }
 ],
 "metadata": {
  "kernelspec": {
   "display_name": "Python 3 (ipykernel)",
   "language": "python",
   "name": "python3"
  },
  "language_info": {
   "codemirror_mode": {
    "name": "ipython",
    "version": 3
   },
   "file_extension": ".py",
   "mimetype": "text/x-python",
   "name": "python",
   "nbconvert_exporter": "python",
   "pygments_lexer": "ipython3",
   "version": "3.10.0rc2"
  }
 },
 "nbformat": 4,
 "nbformat_minor": 5
}
