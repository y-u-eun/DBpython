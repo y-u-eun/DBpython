{
 "cells": [
  {
   "cell_type": "markdown",
   "id": "c42d23e8-ffd7-4612-a673-5338ee24c21c",
   "metadata": {},
   "source": [
    "##### 2025.04.30 데이터베이스프로그래밍 3강 ko36 조유은\n",
    "## 파일 읽기/쓰기"
   ]
  },
  {
   "cell_type": "code",
   "execution_count": 1,
   "id": "f8135c12-84b7-4522-a15f-b8747f44cd7c",
   "metadata": {},
   "outputs": [],
   "source": [
    "# write file\n",
    "k36_f = open('./mytest.txt', 'w')  # w : write\n",
    "\n",
    "k36_f.write('hello I am STEP \\n')\n",
    "k36_f.write('Have nice today')\n",
    "k36_f.close()"
   ]
  },
  {
   "cell_type": "markdown",
   "id": "e27b9034-fef1-42f3-9d6e-437166c3908e",
   "metadata": {},
   "source": [
    "- 해당 디렉토리(=이전에 생성한 파이썬 실습 저장 폴더)에 mytest라는 텍스트 파일(.txt)을 쓴다('w').\n",
    "- open() : 파일을 열고 파일 객체를 반환하는 함수\n",
    "  - r : 읽기 모드, 해당 파일이 존재하지 않으면 오류 발생\n",
    "  - w : 쓰기 모드, 파일이 이미 존재하면 기존 내용을 삭제하고 새로 쓰고 파일이 없으면 새 파일을 생성\n",
    "  - a : 추가 모드, 파일의 끝에 내용을 추가하고 파일이 없으면 새 파일을 생성\n",
    "  - x : 배타적 생성 모드, 새 파일을 생성하고 이미 파일이 존재하면 오류 발생\n",
    "  - b : 바이너리 모드, 텍스트 파일 외의 파일을 처리할 때 사용\n",
    "  - t : 텍스트 모드, 파일을 텍스트 형식으로 열음\n",
    "  - + : 읽기와 쓰기 모드, 파일 읽기와 쓰기를 동시에 수행\n",
    "- write() : 파일에 텍스트를 쓰는 함수\n",
    "- close() : 오픈한 파일을 닫는 함수"
   ]
  },
  {
   "cell_type": "code",
   "execution_count": 2,
   "id": "566ac2a7-5874-4a37-bf7a-739954eaf2cd",
   "metadata": {},
   "outputs": [
    {
     "name": "stdout",
     "output_type": "stream",
     "text": [
      "['hello I am STEP \\n', 'Have nice today']\n"
     ]
    }
   ],
   "source": [
    "# read file\n",
    "k36_f = open('./mytest.txt', 'r')  # r : read\n",
    "k36_lines = k36_f.readlines()\n",
    "\n",
    "print(k36_lines)\n",
    "    \n",
    "k36_f.close()"
   ]
  },
  {
   "cell_type": "markdown",
   "id": "609ce400-7f72-41e2-ba4b-6777c740affb",
   "metadata": {},
   "source": [
    "- readlines() : 해당 위치에서 파일의 모든 문자열을 읽어 오는 함수, List[문자열]을 반환한다.\n",
    "- readline() : 해당 위치에서 한 줄의 문자열을 읽어 오는 함수, 문자열을 반환한다."
   ]
  },
  {
   "cell_type": "code",
   "execution_count": 3,
   "id": "ef495119-d42a-458b-9c42-536570829538",
   "metadata": {},
   "outputs": [
    {
     "name": "stdout",
     "output_type": "stream",
     "text": [
      "hello I am STEP \n",
      "Have nice today\n"
     ]
    }
   ],
   "source": [
    "k36_f = open('./mytest.txt', 'r')  # r : read\n",
    "\n",
    "while True:\n",
    "    k36_line = k36_f.read()\n",
    "    if not k36_line:\n",
    "        break\n",
    "    print(k36_line)\n",
    "    \n",
    "k36_f.close()"
   ]
  },
  {
   "cell_type": "markdown",
   "id": "df45cb70-8d6f-42fd-8e34-b9e0bcd2063d",
   "metadata": {},
   "source": [
    "- read(n) : 해당 위치의 문자 n개를 읽어 오는 함수, n이 없으면 모든 문자를 읽어 오고 문자 n개를 반환한다.\n",
    "- print()는 기본으로 줄 바꿈 설정이 되어 있으므로 각각 한 줄씩 출력된다.\n",
    "- k36_line이 참이 아니면 break"
   ]
  }
 ],
 "metadata": {
  "kernelspec": {
   "display_name": "Python 3 (ipykernel)",
   "language": "python",
   "name": "python3"
  },
  "language_info": {
   "codemirror_mode": {
    "name": "ipython",
    "version": 3
   },
   "file_extension": ".py",
   "mimetype": "text/x-python",
   "name": "python",
   "nbconvert_exporter": "python",
   "pygments_lexer": "ipython3",
   "version": "3.10.0rc2"
  }
 },
 "nbformat": 4,
 "nbformat_minor": 5
}
