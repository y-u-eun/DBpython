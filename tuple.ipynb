{
 "cells": [
  {
   "cell_type": "markdown",
   "id": "03c05dcd-9ce7-4ec7-b714-45b9e3aa8d8a",
   "metadata": {},
   "source": [
    "##### 2025.04.30 데이터베이스프로그래밍 3강 ko36 조유은\n",
    "## 튜플 다루기"
   ]
  },
  {
   "cell_type": "code",
   "execution_count": 2,
   "id": "17257cfc-0a2a-470c-86a7-9d14e10674a1",
   "metadata": {},
   "outputs": [
    {
     "name": "stdout",
     "output_type": "stream",
     "text": [
      "==================================================\n",
      "튜플은 ()로 값을 넣기, 리스트와 거의 동일\n",
      "(1, 8, 5, 6, 2, 4, 5, 2, 6, 9, 4)\n",
      "==================================================\n",
      "튜플은 한번 선언 후 값 변경 불가\n",
      "--> 에러난다\n"
     ]
    }
   ],
   "source": [
    "# tuple\n",
    "a = (1, 8, 5, 6, 2, 4, 5, 2, 6, 9, 4)\n",
    "print(\"=\" * 50)\n",
    "print(\"튜플은 ()로 값을 넣기, 리스트와 거의 동일\")\n",
    "print(a)\n",
    "\n",
    "print(\"=\" * 50)\n",
    "print(\"튜플은 한번 선언 후 값 변경 불가\")\n",
    "try:\n",
    "    a[0] = 2\n",
    "    print(a)\n",
    "except:\n",
    "    print('--> 에러난다')"
   ]
  },
  {
   "cell_type": "markdown",
   "id": "197d1390-0da7-4c2d-a4af-77a402bdddad",
   "metadata": {},
   "source": [
    "- 튜플(Tuple)\n",
    "  - 빈 튜플 만들기 가능하다. $\\to$ a = ()\n",
    "  - 한 개의 데이터가 있는 튜플은 콤마를 붙여 줘야 한다. $\\to$ a = (1, )\n",
    "  - 괄호를 생략해도 튜플이 생성 된다. $\\to$ a = 1, 2, 3\n",
    "  - 문자를 넣으면 문자형 튜플, 숫자를 넣으면 숫자형 튜플, 문자와 숫자를 혼합한 튜플도 가능 $\\to$ a = ('A', 'B', 'C) / a = (1, 2, 3) / a = ('A', 2, 'C', 4)\n",
    "  - 튜플 안에 튜플을 넣는 것도 가능하다. $\\to$ a = (1, 2, (3, 4))"
   ]
  }
 ],
 "metadata": {
  "kernelspec": {
   "display_name": "Python 3 (ipykernel)",
   "language": "python",
   "name": "python3"
  },
  "language_info": {
   "codemirror_mode": {
    "name": "ipython",
    "version": 3
   },
   "file_extension": ".py",
   "mimetype": "text/x-python",
   "name": "python",
   "nbconvert_exporter": "python",
   "pygments_lexer": "ipython3",
   "version": "3.10.0rc2"
  }
 },
 "nbformat": 4,
 "nbformat_minor": 5
}
